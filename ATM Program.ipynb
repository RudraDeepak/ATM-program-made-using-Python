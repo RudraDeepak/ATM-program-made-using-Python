{
 "cells": [
  {
   "cell_type": "code",
   "execution_count": 5,
   "metadata": {},
   "outputs": [],
   "source": [
    "user_data={'user_id':['Jeetu','Chaman','Neeraj'],'password':['erty','hujk','bnmv'],'Balance':[0,0,200]}"
   ]
  },
  {
   "cell_type": "code",
   "execution_count": 6,
   "metadata": {},
   "outputs": [
    {
     "name": "stdout",
     "output_type": "stream",
     "text": [
      "Welcome to LCO banking \n",
      "Enter 1 to Login \n",
      "Enter 2 to Sign up\n",
      "1\n",
      "Enter your USER_ID : Jeetu\n",
      "Enter your password : erty\n",
      "Press : \n",
      "88 to Deposit money\n",
      "99 to Withdraw money\n",
      "55 to change password\n",
      "33 to display account balance\n",
      "33\n",
      "0  INR\n"
     ]
    }
   ],
   "source": [
    "#user_data={'user_id':['Jeetu','Chaman','Neeraj'],'password':['erty','hujk','bnmv'],'Balance':[0,0,200]}\n",
    "chs=input(\"Welcome to LCO banking \\nEnter 1 to Login \\nEnter 2 to Sign up\\n\")\n",
    "\n",
    "if chs=='1':\n",
    "    flag=0\n",
    "    a=input(\"Enter your USER_ID : \")\n",
    "    b=input(\"Enter your password : \")\n",
    "    for i in user_data['user_id']:\n",
    "        if i==a:\n",
    "            if user_data['password'][user_data['user_id'].index(i)]==b:\n",
    "                flag=1\n",
    "            \n",
    "    if flag==1:\n",
    "        chs2=input(\"Press : \\n88 to Deposit money\\n99 to Withdraw money\\n55 to change password\\n33 to display account balance\\n\")        \n",
    "        \n",
    "        if chs2=='88':\n",
    "            amt=input(\"Enter amount to be deposited : \")\n",
    "            amt=int(amt)\n",
    "            user_data['Balance'][user_data['user_id'].index(a)]=user_data['Balance'][user_data['user_id'].index(a)]+amt\n",
    "            print(\"Transaction successful !\\nBalance : \",user_data['Balance'][user_data['user_id'].index(a)],\" INR\")\n",
    "        \n",
    "        elif chs2=='99':\n",
    "            amt=input(\"Enter amount to withdraw : \")\n",
    "            amt=int(amt)\n",
    "            user_data['Balance'][user_data['user_id'].index(a)]=user_data['Balance'][user_data['user_id'].index(a)]-amt\n",
    "            print(\"Transaction successful !\\nBalance : \",user_data['Balance'][user_data['user_id'].index(a)],\" INR\")\n",
    "        elif chs2=='55':\n",
    "            chng_ps=input(\"Enter your new password \")\n",
    "            chng_ps2=input(\"Confirm new password \")\n",
    "            if chng_ps==chng_ps2:\n",
    "                user_data['password'][user_data['user_id'].index(a)]=chng_ps2\n",
    "                print(\"Password changed successfully.\")\n",
    "            else:\n",
    "                print(\"Oops...Password not confirmed !, Try again\")\n",
    "                \n",
    "        elif chs2==\"33\":\n",
    "            print(user_data['Balance'][user_data['user_id'].index(a)],\" INR\")\n",
    "            \n",
    "        else:\n",
    "            print(\"Wrong Entry\")\n",
    "    else:\n",
    "        print(\"Login Failed,Try again\")\n",
    "            \n",
    "elif chs==\"2\":\n",
    "    new_ui=input(\"Enter new USER_ID : \")\n",
    "    new_ps=input(\"Enter new Password : \")\n",
    "    user_data['user_id'].append(new_ui)\n",
    "    user_data['password'].append(new_ps)\n",
    "    user_data['Balance'].append(0)\n",
    "    print(\"Account created successfully !\")\n",
    "else:\n",
    "    print(\"Invalid input,Try again\")\n",
    "    \n"
   ]
  },
  {
   "cell_type": "code",
   "execution_count": null,
   "metadata": {},
   "outputs": [],
   "source": []
  }
 ],
 "metadata": {
  "kernelspec": {
   "display_name": "Python 3",
   "language": "python",
   "name": "python3"
  },
  "language_info": {
   "codemirror_mode": {
    "name": "ipython",
    "version": 3
   },
   "file_extension": ".py",
   "mimetype": "text/x-python",
   "name": "python",
   "nbconvert_exporter": "python",
   "pygments_lexer": "ipython3",
   "version": "3.6.5"
  }
 },
 "nbformat": 4,
 "nbformat_minor": 2
}
